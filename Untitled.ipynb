{
 "cells": [
  {
   "cell_type": "code",
   "execution_count": 1,
   "id": "a8da286a",
   "metadata": {},
   "outputs": [],
   "source": [
    "import pandas as pd"
   ]
  },
  {
   "cell_type": "code",
   "execution_count": 2,
   "id": "e31876af",
   "metadata": {},
   "outputs": [
    {
     "data": {
      "text/html": [
       "<div>\n",
       "<style scoped>\n",
       "    .dataframe tbody tr th:only-of-type {\n",
       "        vertical-align: middle;\n",
       "    }\n",
       "\n",
       "    .dataframe tbody tr th {\n",
       "        vertical-align: top;\n",
       "    }\n",
       "\n",
       "    .dataframe thead th {\n",
       "        text-align: right;\n",
       "    }\n",
       "</style>\n",
       "<table border=\"1\" class=\"dataframe\">\n",
       "  <thead>\n",
       "    <tr style=\"text-align: right;\">\n",
       "      <th></th>\n",
       "      <th>Student ID</th>\n",
       "      <th>student_name</th>\n",
       "      <th>gender</th>\n",
       "      <th>grade</th>\n",
       "      <th>school_name</th>\n",
       "      <th>reading_score</th>\n",
       "      <th>math_score</th>\n",
       "    </tr>\n",
       "  </thead>\n",
       "  <tbody>\n",
       "    <tr>\n",
       "      <th>0</th>\n",
       "      <td>0</td>\n",
       "      <td>Paul Bradley</td>\n",
       "      <td>M</td>\n",
       "      <td>9th</td>\n",
       "      <td>Huang High School</td>\n",
       "      <td>66</td>\n",
       "      <td>79</td>\n",
       "    </tr>\n",
       "    <tr>\n",
       "      <th>1</th>\n",
       "      <td>1</td>\n",
       "      <td>Victor Smith</td>\n",
       "      <td>M</td>\n",
       "      <td>12th</td>\n",
       "      <td>Huang High School</td>\n",
       "      <td>94</td>\n",
       "      <td>61</td>\n",
       "    </tr>\n",
       "    <tr>\n",
       "      <th>2</th>\n",
       "      <td>2</td>\n",
       "      <td>Kevin Rodriguez</td>\n",
       "      <td>M</td>\n",
       "      <td>12th</td>\n",
       "      <td>Huang High School</td>\n",
       "      <td>90</td>\n",
       "      <td>60</td>\n",
       "    </tr>\n",
       "    <tr>\n",
       "      <th>3</th>\n",
       "      <td>3</td>\n",
       "      <td>Richard Scott</td>\n",
       "      <td>M</td>\n",
       "      <td>12th</td>\n",
       "      <td>Huang High School</td>\n",
       "      <td>67</td>\n",
       "      <td>58</td>\n",
       "    </tr>\n",
       "    <tr>\n",
       "      <th>4</th>\n",
       "      <td>4</td>\n",
       "      <td>Bonnie Ray</td>\n",
       "      <td>F</td>\n",
       "      <td>9th</td>\n",
       "      <td>Huang High School</td>\n",
       "      <td>97</td>\n",
       "      <td>84</td>\n",
       "    </tr>\n",
       "  </tbody>\n",
       "</table>\n",
       "</div>"
      ],
      "text/plain": [
       "   Student ID     student_name gender grade        school_name  reading_score  \\\n",
       "0           0     Paul Bradley      M   9th  Huang High School             66   \n",
       "1           1     Victor Smith      M  12th  Huang High School             94   \n",
       "2           2  Kevin Rodriguez      M  12th  Huang High School             90   \n",
       "3           3    Richard Scott      M  12th  Huang High School             67   \n",
       "4           4       Bonnie Ray      F   9th  Huang High School             97   \n",
       "\n",
       "   math_score  \n",
       "0          79  \n",
       "1          61  \n",
       "2          60  \n",
       "3          58  \n",
       "4          84  "
      ]
     },
     "execution_count": 2,
     "metadata": {},
     "output_type": "execute_result"
    }
   ],
   "source": [
    "student_data_to_load = \"Resources/students_complete.csv\"\n",
    "\n",
    "student_data_df = pd.read_csv(student_data_to_load)\n",
    "student_data_df.head()"
   ]
  },
  {
   "cell_type": "code",
   "execution_count": 4,
   "id": "f66189da",
   "metadata": {},
   "outputs": [],
   "source": [
    "student_names = student_data_df[\"student_name\"].tolist()"
   ]
  },
  {
   "cell_type": "code",
   "execution_count": 5,
   "id": "b2157986",
   "metadata": {},
   "outputs": [],
   "source": [
    "for name in student_names:\n",
    "    (name.split(), len(name.split()))"
   ]
  },
  {
   "cell_type": "code",
   "execution_count": 6,
   "id": "0235a1d2",
   "metadata": {},
   "outputs": [],
   "source": [
    "students_to_fix = []"
   ]
  },
  {
   "cell_type": "code",
   "execution_count": 7,
   "id": "9fe75c62",
   "metadata": {},
   "outputs": [
    {
     "data": {
      "text/plain": [
       "1530"
      ]
     },
     "execution_count": 7,
     "metadata": {},
     "output_type": "execute_result"
    }
   ],
   "source": [
    "for name in student_names:\n",
    "    if len(name.split()) >= 3:\n",
    "        students_to_fix.append(name)\n",
    "len(students_to_fix)"
   ]
  },
  {
   "cell_type": "code",
   "execution_count": 8,
   "id": "b0a8abae",
   "metadata": {},
   "outputs": [],
   "source": [
    "prefixes = []\n",
    "\n",
    "for name in students_to_fix:\n",
    "    if len(name.split()[0]) <= 4:\n",
    "        prefixes.append(name.split()[0])"
   ]
  },
  {
   "cell_type": "code",
   "execution_count": 9,
   "id": "539eb9cc",
   "metadata": {},
   "outputs": [],
   "source": [
    "suffixes = []\n",
    "\n",
    "for name in students_to_fix:\n",
    "    if len(name.split()[-1]) <= 3:\n",
    "        suffixes.append(name.split()[-1])"
   ]
  },
  {
   "cell_type": "code",
   "execution_count": 10,
   "id": "be85d417",
   "metadata": {},
   "outputs": [
    {
     "data": {
      "text/plain": [
       "{'Adam',\n",
       " 'Amy',\n",
       " 'Anna',\n",
       " 'Anne',\n",
       " 'Carl',\n",
       " 'Chad',\n",
       " 'Cody',\n",
       " 'Cory',\n",
       " 'Dale',\n",
       " 'Dana',\n",
       " 'Dawn',\n",
       " 'Dr.',\n",
       " 'Emma',\n",
       " 'Eric',\n",
       " 'Erik',\n",
       " 'Erin',\n",
       " 'Gail',\n",
       " 'Gary',\n",
       " 'Gina',\n",
       " 'Greg',\n",
       " 'Ian',\n",
       " 'Jill',\n",
       " 'Jodi',\n",
       " 'Joe',\n",
       " 'John',\n",
       " 'Jon',\n",
       " 'Jose',\n",
       " 'Judy',\n",
       " 'Kara',\n",
       " 'Kari',\n",
       " 'Kim',\n",
       " 'Kyle',\n",
       " 'Leah',\n",
       " 'Lisa',\n",
       " 'Lori',\n",
       " 'Luke',\n",
       " 'Lynn',\n",
       " 'Marc',\n",
       " 'Mark',\n",
       " 'Mary',\n",
       " 'Mike',\n",
       " 'Miss',\n",
       " 'Mr.',\n",
       " 'Mrs.',\n",
       " 'Ms.',\n",
       " 'Noah',\n",
       " 'Omar',\n",
       " 'Paul',\n",
       " 'Ruth',\n",
       " 'Ryan',\n",
       " 'Sara',\n",
       " 'Sean',\n",
       " 'Seth',\n",
       " 'Tara',\n",
       " 'Tina',\n",
       " 'Todd',\n",
       " 'Toni',\n",
       " 'Tony',\n",
       " 'Troy'}"
      ]
     },
     "execution_count": 10,
     "metadata": {},
     "output_type": "execute_result"
    }
   ],
   "source": [
    "set(prefixes)"
   ]
  },
  {
   "cell_type": "code",
   "execution_count": 11,
   "id": "e56c1617",
   "metadata": {},
   "outputs": [
    {
     "data": {
      "text/plain": [
       "{'Cox',\n",
       " 'DDS',\n",
       " 'DVM',\n",
       " 'Day',\n",
       " 'II',\n",
       " 'III',\n",
       " 'IV',\n",
       " 'Jr.',\n",
       " 'Kim',\n",
       " 'Lee',\n",
       " 'Li',\n",
       " 'MD',\n",
       " 'PhD',\n",
       " 'Roy',\n",
       " 'V'}"
      ]
     },
     "execution_count": 11,
     "metadata": {},
     "output_type": "execute_result"
    }
   ],
   "source": [
    "set(suffixes)"
   ]
  },
  {
   "cell_type": "code",
   "execution_count": 27,
   "id": "701c7c65",
   "metadata": {},
   "outputs": [],
   "source": [
    "prefixes_suffixes = [\"Dr. \",\"Mr. \",\"Ms.\",\"Mrs. \", \"Miss \",\" MD\",\" DDS\",\" DVM\",\" PhD\"]"
   ]
  },
  {
   "cell_type": "code",
   "execution_count": 28,
   "id": "169ea0ef",
   "metadata": {},
   "outputs": [
    {
     "name": "stderr",
     "output_type": "stream",
     "text": [
      "C:\\Users\\Artsy\\anaconda3.1\\envs\\PythonData\\lib\\site-packages\\ipykernel_launcher.py:2: FutureWarning: The default value of regex will change from True to False in a future version.\n",
      "  \n"
     ]
    }
   ],
   "source": [
    "for word in prefixes_suffixes:\n",
    "    student_data_df[\"student_name\"] = student_data_df[\"student_name\"].str.replace(word,\"\")"
   ]
  },
  {
   "cell_type": "code",
   "execution_count": 29,
   "id": "950b7a1e",
   "metadata": {},
   "outputs": [],
   "source": [
    "student_names = student_data_df[\"student_name\"].tolist()\n",
    " "
   ]
  },
  {
   "cell_type": "code",
   "execution_count": 30,
   "id": "1e892a5b",
   "metadata": {},
   "outputs": [
    {
     "data": {
      "text/plain": [
       "151"
      ]
     },
     "execution_count": 30,
     "metadata": {},
     "output_type": "execute_result"
    }
   ],
   "source": [
    "students_fixed = []\n",
    "\n",
    "for name in student_names:\n",
    "    if len(name.split()) >= 3:\n",
    "        students_fixed.append(name)\n",
    "len(students_fixed)"
   ]
  },
  {
   "cell_type": "code",
   "execution_count": 31,
   "id": "823800e3",
   "metadata": {},
   "outputs": [
    {
     "data": {
      "text/plain": [
       "['Joseph Morales III',\n",
       " 'Xavier Bell II',\n",
       " 'David Miller Jr.',\n",
       " 'Reginald Garcia IV',\n",
       " 'Kevin Brown IV',\n",
       " 'William Washington Jr.',\n",
       " 'Juan Bryant II',\n",
       " 'Kenneth Paul Jr.',\n",
       " 'Scott Rivers III',\n",
       " 'Mark Myers Jr.',\n",
       " 'Michael Norton Jr.',\n",
       " 'Sean Pena Jr.',\n",
       " 'Cody Mueller Jr.',\n",
       " 'Mathew White Jr.',\n",
       " 'Jason Daugherty Jr.',\n",
       " 'Leonard Webster II',\n",
       " 'Michael Stein Jr.',\n",
       " 'Ryan Phillips Jr.',\n",
       " 'Allen Snyder Jr.',\n",
       " 'Calvin Williams Jr.',\n",
       " 'Ronald Torres Jr.',\n",
       " 'Gabriel Smith III',\n",
       " 'Brian Pitts Jr.',\n",
       " 'Bruce Thompson II',\n",
       " 'Jeremy Sanders II',\n",
       " 'Austin Johnson II',\n",
       " 'Bryan Conway Jr.',\n",
       " 'Ronald Moore II',\n",
       " 'Robert Garrison IV',\n",
       " 'William Gonzalez Jr.',\n",
       " 'Brian Matthews Jr.',\n",
       " 'Eric Richards Jr.',\n",
       " 'Kenneth Munoz Jr.',\n",
       " 'Jon Delgado Jr.',\n",
       " 'Andrew English Jr.',\n",
       " 'Raymond Cox Jr.',\n",
       " 'Jeffrey Mcclain Jr.',\n",
       " 'Brian Poole V',\n",
       " 'Jeffrey Kim II',\n",
       " 'Matthew Alexander Jr.',\n",
       " 'Kevin Reynolds Jr.',\n",
       " 'Jacob Skinner Jr.',\n",
       " 'Dennis Gibson Jr.',\n",
       " 'Jimmy Shea Jr.',\n",
       " 'James Reed Jr.',\n",
       " 'Jeffery Baker Jr.',\n",
       " 'Derrick Hughes III',\n",
       " 'Joshua Rivera Jr.',\n",
       " 'Timothy Guzman Jr.',\n",
       " 'Lonnie Allen II',\n",
       " 'Tyrone Clark III',\n",
       " 'Jeffrey Nelson Jr.',\n",
       " 'Michael Mann II',\n",
       " 'David Johnson Jr.',\n",
       " 'Timothy Chavez Jr.',\n",
       " 'Brian Powell III',\n",
       " 'Lance Rangel Jr.',\n",
       " 'Noah Herrera Jr.',\n",
       " 'Eric Johnson Jr.',\n",
       " 'Victor Chavez II',\n",
       " 'Richard Ellis Jr.',\n",
       " 'Charles Goodman Jr.',\n",
       " 'Michael Singh Jr.',\n",
       " 'Jonathan Smith Jr.',\n",
       " 'Allen Morris Jr.',\n",
       " 'Aaron Solis Jr.',\n",
       " 'Daniel Mckinney Jr.',\n",
       " 'Christopher Petty Jr.',\n",
       " 'Michael Garcia Jr.',\n",
       " 'Charles Short II',\n",
       " 'Derek Barker Jr.',\n",
       " 'Zachary Garrett III',\n",
       " 'Thomas Harrison Jr.',\n",
       " 'Andrew Mitchell V',\n",
       " 'Aaron Davis Jr.',\n",
       " 'Brian Bailey Jr.',\n",
       " 'Jeremiah Morris IV',\n",
       " 'David Morales Jr.',\n",
       " 'Larry Chandler Jr.',\n",
       " 'James Clark II',\n",
       " 'Cameron Roman Jr.',\n",
       " 'Christopher Smith Jr.',\n",
       " 'Todd Grant Jr.',\n",
       " 'Kenneth Avila Jr.',\n",
       " 'Jason Lopez Jr.',\n",
       " 'Dwayne Mathis Jr.',\n",
       " 'Colton Collins II',\n",
       " 'Chris Palmer III',\n",
       " 'Tyler Randall Jr.',\n",
       " 'Joseph Morgan IV',\n",
       " 'Carlos Adkins Jr.',\n",
       " 'Mark Livingston Jr.',\n",
       " 'Michael Williams III',\n",
       " 'Eric Evans III',\n",
       " 'Christopher Thornton Jr.',\n",
       " 'Adam Hayes III',\n",
       " 'Michael Moore Jr.',\n",
       " 'Joseph Hudson II',\n",
       " 'William Brooks Jr.',\n",
       " 'Daniel Welch II',\n",
       " 'Roger Horton Jr.',\n",
       " 'Cory Marshall II',\n",
       " 'Joshua Thompson Jr.',\n",
       " 'Jon Flores II',\n",
       " 'Philip Jones Jr.',\n",
       " 'Greg Joyce Jr.',\n",
       " 'Thomas Frye Jr.',\n",
       " 'Joseph Marquez Jr.',\n",
       " 'Robert Smith Jr.',\n",
       " 'David Beck Jr.',\n",
       " 'Ryan Gomez II',\n",
       " 'Erik Smith Jr.',\n",
       " 'Omar Thompson Jr.',\n",
       " 'Leonard Roberts Jr.',\n",
       " 'Duane Li Jr.',\n",
       " 'Richard Lucero Jr.',\n",
       " 'Seth Medina Jr.',\n",
       " 'Anthony Carlson Jr.',\n",
       " 'Edward Dudley II',\n",
       " 'Matthew Lewis Jr.',\n",
       " 'Christopher Bowers Jr.',\n",
       " 'Timothy Hughes Jr.',\n",
       " 'Kevin Hoover IV',\n",
       " 'David Butler Jr.',\n",
       " 'Michael Wilson Jr.',\n",
       " 'George Hess Jr.',\n",
       " 'Kevin Briggs Jr.',\n",
       " 'Joseph Matthews III',\n",
       " 'Dylan Bailey Jr.',\n",
       " 'Anthony Woods Jr.',\n",
       " 'Michael Harris Jr.',\n",
       " 'Daniel Diaz Jr.',\n",
       " 'Taylor Thompson Jr.',\n",
       " 'Daniel Robinson Jr.',\n",
       " 'Ronald Phelps Jr.',\n",
       " 'Jonathan Reid II',\n",
       " 'Joshua Smith Jr.',\n",
       " 'Joseph Herrera III',\n",
       " 'Tony Robertson II',\n",
       " 'James Fowler III',\n",
       " 'William Wright II',\n",
       " 'Thomas Carrillo II',\n",
       " 'Matthew Bennett Jr.',\n",
       " 'Mark Lucas IV',\n",
       " 'Keith Newman Jr.',\n",
       " 'Matthew Mitchell III',\n",
       " 'Colin Schultz II',\n",
       " 'Terry Scott Jr.',\n",
       " 'Jason Patel Jr.',\n",
       " 'Steven Lewis Jr.',\n",
       " 'Lucas Williams Jr.']"
      ]
     },
     "execution_count": 31,
     "metadata": {},
     "output_type": "execute_result"
    }
   ],
   "source": [
    "students_fixed"
   ]
  },
  {
   "cell_type": "code",
   "execution_count": null,
   "id": "1545521d",
   "metadata": {},
   "outputs": [],
   "source": []
  }
 ],
 "metadata": {
  "kernelspec": {
   "display_name": "Python 3 (ipykernel)",
   "language": "python",
   "name": "python3"
  },
  "language_info": {
   "codemirror_mode": {
    "name": "ipython",
    "version": 3
   },
   "file_extension": ".py",
   "mimetype": "text/x-python",
   "name": "python",
   "nbconvert_exporter": "python",
   "pygments_lexer": "ipython3",
   "version": "3.7.13"
  }
 },
 "nbformat": 4,
 "nbformat_minor": 5
}
